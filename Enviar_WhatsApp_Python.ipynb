{
  "cells": [
    {
      "cell_type": "markdown",
      "metadata": {
        "id": "view-in-github",
        "colab_type": "text"
      },
      "source": [
        "<a href=\"https://colab.research.google.com/github/cego2/Projeto/blob/master/Enviar_WhatsApp_Python.ipynb\" target=\"_parent\"><img src=\"https://colab.research.google.com/assets/colab-badge.svg\" alt=\"Open In Colab\"/></a>"
      ]
    },
    {
      "cell_type": "markdown",
      "metadata": {
        "id": "DXjFGgIKjGeA"
      },
      "source": [
        "# Objetivo: Enviar mensagem de Lembrete de pagamento!\n"
      ]
    },
    {
      "cell_type": "code",
      "execution_count": null,
      "metadata": {
        "id": "dSiQVZXHjGeU"
      },
      "outputs": [],
      "source": [
        "import pandas as pd\n",
        "\n",
        "contatos_df = pd.read_excel(\"Enviar.xlsx\")\n",
        "display(contatos_df)"
      ]
    },
    {
      "cell_type": "code",
      "execution_count": null,
      "metadata": {
        "id": "TV9zVmDfjGec"
      },
      "outputs": [],
      "source": [
        "from selenium import webdriver\n",
        "from selenium.webdriver.common.keys import Keys\n",
        "import time\n",
        "import urllib\n",
        "\n",
        "navegador = webdriver.Chrome()\n",
        "navegador.get(\"https://web.whatsapp.com/\")\n",
        "\n",
        "while len(navegador.find_elements_by_id(\"side\")) < 1:\n",
        "    time.sleep(1)\n",
        "\n",
        "# já estamos com o login feito no whatsapp web\n",
        "for i, mensagem in enumerate(contatos_df['Mensagem']):\n",
        "    pessoa = contatos_df.loc[i, \"Pessoa\"]\n",
        "    numero = contatos_df.loc[i, \"Número\"]\n",
        "    texto = urllib.parse.quote(f\"Oi {pessoa}! {mensagem}\")\n",
        "    link = f\"https://web.whatsapp.com/send?phone={numero}&text={texto}\"\n",
        "    navegador.get(link)\n",
        "    while len(navegador.find_elements_by_id(\"side\")) < 1:\n",
        "        time.sleep(1)\n",
        "    navegador.find_element_by_xpath('//*[@id=\"main\"]/footer/div[1]/div[2]/div/div[2]').send_keys(Keys.ENTER)\n",
        "    time.sleep(10)\n",
        "\n",
        ""
      ]
    },
    {
      "cell_type": "code",
      "execution_count": null,
      "metadata": {
        "id": "lPG4ZVW4jGef"
      },
      "outputs": [],
      "source": []
    }
  ],
  "metadata": {
    "kernelspec": {
      "display_name": "Python 3",
      "language": "python",
      "name": "python3"
    },
    "language_info": {
      "codemirror_mode": {
        "name": "ipython",
        "version": 3
      },
      "file_extension": ".py",
      "mimetype": "text/x-python",
      "name": "python",
      "nbconvert_exporter": "python",
      "pygments_lexer": "ipython3",
      "version": "3.8.5"
    },
    "colab": {
      "provenance": [],
      "include_colab_link": true
    }
  },
  "nbformat": 4,
  "nbformat_minor": 0
}